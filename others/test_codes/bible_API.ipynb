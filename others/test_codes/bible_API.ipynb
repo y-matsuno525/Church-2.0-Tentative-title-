{
 "cells": [
  {
   "cell_type": "code",
   "execution_count": 8,
   "id": "8cb77cd2-0db3-4b06-bbab-dbe23ac20835",
   "metadata": {},
   "outputs": [
    {
     "name": "stdout",
     "output_type": "stream",
     "text": [
      "{'verse': '1', 'text': 'In the beginning God created the heavens and the earth.'}\n"
     ]
    }
   ],
   "source": [
    "import requests\n",
    "\n",
    "# APIのエンドポイントURL\n",
    "url = \"https://cdn.jsdelivr.net/gh/wldeh/bible-api/bibles/en-asv/books/genesis/chapters/1/verses/1.json\"\n",
    "\n",
    "# リクエストの送信\n",
    "response = requests.get(url)\n",
    "\n",
    "# ステータスコードを確認（200なら成功）\n",
    "if response.status_code == 200:\n",
    "    # レスポンスデータを取得（JSON形式の場合）\n",
    "    data = response.json()  # .json()で辞書形式に変換\n",
    "    print(data)\n",
    "else:\n",
    "    print(f\"リクエストが失敗しました。ステータスコード: {response.status_code}\")\n"
   ]
  },
  {
   "cell_type": "code",
   "execution_count": null,
   "id": "de1f51f9-8e70-4936-a39d-fc9c28cc2cac",
   "metadata": {},
   "outputs": [],
   "source": []
  },
  {
   "cell_type": "code",
   "execution_count": null,
   "id": "483e49b5-b416-448c-a72e-63f41f21a03e",
   "metadata": {},
   "outputs": [],
   "source": []
  }
 ],
 "metadata": {
  "kernelspec": {
   "display_name": "Python 3 (ipykernel)",
   "language": "python",
   "name": "python3"
  },
  "language_info": {
   "codemirror_mode": {
    "name": "ipython",
    "version": 3
   },
   "file_extension": ".py",
   "mimetype": "text/x-python",
   "name": "python",
   "nbconvert_exporter": "python",
   "pygments_lexer": "ipython3",
   "version": "3.11.7"
  }
 },
 "nbformat": 4,
 "nbformat_minor": 5
}
